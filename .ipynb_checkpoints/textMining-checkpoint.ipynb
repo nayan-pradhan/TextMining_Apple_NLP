{
 "cells": [
  {
   "cell_type": "code",
   "execution_count": 3,
   "metadata": {},
   "outputs": [],
   "source": [
    "# read from apple website\n",
    "import urllib.request\n",
    "response = urllib.request.urlopen(\"https://www.apple.com/ipad-pro/\")\n",
    "html = response.read()\n",
    "# print(html)"
   ]
  },
  {
   "cell_type": "code",
   "execution_count": 4,
   "metadata": {},
   "outputs": [
    {
     "name": "stdout",
     "output_type": "stream",
     "text": [
      "iPad Pro - AppleGlobal Nav Open MenuGlobal Nav Close MenuAppleShopping Bag+Search apple.comCancelAppleMaciPadiPhoneWatchTVMusicSupportShopping Bag+CanceliPad ProLocal Nav Open MenuLocal Nav Close MenuOverviewWhy iPadTech SpecsBuyiPad ProGet iPad Pro starting at $749 in our Education store.*Shopeducation pricingiPad ProiPad ProYour next computer is not a computer.It’s a magical piece of glass.It’s so fast most PC laptops can’t catch up.It has pro cameras that can transform reality.And you can use it with touch, pencil, keyboard, and now trackpad.It’s the new iPad Pro.Watch the filmSee iPad Pro in ARSee iPad Pro in ARLiquid Retina displayTry to find a more advanced mobile display. We’ll wait.Liquid Retina displayTry to find a more advanced mobile display. We’ll wait.Liquid Retina technologyThe edge-to-edge Liquid Retina display is not only gorgeous and immersive, but also features incredibly advanced technologies.1Like ProMotion, True Tone, and industry‑leading color accuracy, which make everything feel responsive and look stunning. Quite simply, this combination of features makes it the world’s most advanced mobile display.CamerasThink you knowiPad cameras?Think deeper.Pro camerasAdvanced cameras combined with a large display, fast performance, and highly calibrated sensors have always made iPad uniquely capable. The Wide and new Ultra Wide cameras help you frame the perfect photo or video. And together with studio‑quality mics and four speaker audio, you can even set up a multicamera filmmaking rig.LiDAR ScannerLiDAR (Light Detection and Ranging) is used to determine distance by measuring how long it takes light to reach an object and reflect back. It is so advanced, it’s being developed by NASA for Mars landing missions. And it’s now been engineered to fit in the thin and light iPad Pro.The custom-designed LiDAR Scanner uses direct time of flight to measure reflected light from up to five meters away, both indoors and out. It works at the photon level, operates at nanosecond speeds, and opens up tremendous possibilities for augmented reality and beyond.The LiDAR Scanner works with the pro cameras, motion sensors, and frameworks in iPadOS to measure depth. This combination of hardware, software, and unprecedented innovation makes iPad Pro the world’s best device for augmented reality.Augmented realityOn the new iPad Pro, AR apps become even more realistic. Placing an AR object now happens instantly. Realistic object occlusion allows AR objects to pass in front of and behind real-world structures. Improved motion capture and people occlusion are more accurate than ever. And developers will be able to create even more immersive experiences.Watch the filmShootand editThe pro camera system makes iPad Pro incredibly versatile. Shoot, edit, and share a 4K video, all on the same device. Capture an entire room in one shot with the Ultra Wide camera and use Markup to redesign it on the spot. Or scan a document, sign or mark it up with Apple Pencil, then send back your notes with a tap.TrueDepth cameraThe front-facing TrueDepth camera enables Face ID, the world’s most secure facial authentication in a tablet — and in a computer. It also means you can chat with friends using FaceTime, take Portrait selfies, or liven up your Messages conversations by turning yourself into an Animoji.Augmented realityOn the new iPad Pro, AR apps become even more realistic. Placing an AR object now happens instantly. Realistic object occlusion allows AR objects to pass in front of and behind real-world structures. Improved motion capture and people occlusion are more accurate than ever. And developers will be able to create even more immersive experiences.Watch the filmShootand editThe pro camera system makes iPad Pro incredibly versatile. Shoot, edit, and share a 4K video, all on the same device. Capture an entire room in one shot with the Ultra Wide camera and use Markup to redesign it on the spot. Or scan a document, sign or mark it up with Apple Pencil, then send back your notes with a tap.TrueDepth cameraThe front-facing TrueDepth camera enables Face ID, the world’s most secure facial authentication in a tablet — and in a computer. It also means you can chat with friends using FaceTime, take Portrait selfies, or liven up your Messages conversations by turning yourself into an Animoji.PerformanceFaster than you can say PC.ProcreateA12Z BionicWith the A12Z Bionic chip, iPad Pro is so fast it outpaces most PC laptops available today. It makes everything you do fast and fluid, from your everyday tasks to graphics-intensive workflows. And the 8-core graphics processor means even more performance and realism for the apps and games where it matters most.Morpholio TraceSky: Children of the LightPro workflowA12Z Bionic is designed to be put to work, especially with pro apps. The 8‑core graphics processor delivers fluid performance for things like 4K video editing, 3D design, and augmented reality. Enhanced thermal design means higher peak and longer sustained performance — critical for pro workflows. And the Apple‑designed Neural Engine enables on‑device machine learning ready for the next generation of pro apps.Adobe PhotoshopMorpholio TraceMicrosoft WordAdobe PhotoshopMultitaskingiPadOS is designed to harness the power and performance of iPad Pro. Lightning‑fast hardware and powerful software were designed in concert to make every interaction snappy and smooth. Which makes working with multiple apps at once and moving between spaces quick and effortless.Magic KeyboardYes, it floats.Magic KeyboardThe all-new Magic Keyboard is an amazing companion for iPad Pro.2It features the best typing experience ever on iPad, a trackpad that opens up new ways to work with iPadOS, a USB‑C port for pass‑through charging, and front and back protection. And it features a floating cantilever design, allowing you to attach iPad Pro magnetically and smoothly adjust it to the perfect viewing angle for you.Learn more about keyboards for iPadFull‑size keyboardA full-size keyboard designed for iPad Pro brings individual hard keycaps and a scissor mechanism with 1 mm travel for a responsive, comfortable, and quiet typing experience. So go ahead, write your novel, knock out a business plan, or rip through your inbox. And with backlit keys, you can get things done day or night.Trackpad reimaginedThe click-anywhere trackpad opens up a whole new way to work in iPadOS. It allows control of the new cursor in iPadOS, which is perfect for tasks like editing a spreadsheet, selecting text, or simply doing everything right from the trackpad. And you can navigate fluidly with familiar Multi‑Touch gestures, like swiping to go home and switching between spaces.See how it worksSwipe between appsApp SwitcherGo homeScrollRight clickSwipe between appsSwipe left or right with three fingers to switch between apps.App SwitcherSwipe up and pause with three fingers to open the App Switcher.Go homeSwipe up with three fingers to go home from anywhere in iPadOS.ScrollQuickly scroll through web pages and documents using two fingers on the trackpad or one finger on a Magic Mouse.Right clickClick with two fingers on the trackpad or right‑click on a mouse to reveal the contextual menu.Cursor for iPadOSThe biggest thingto happen to the cursor since point and click.Trackpad for iPadOSTrackpad support opens up powerful new ways to use your iPad. The reimagined cursor experience has been designed specifically to work in a touch‑first environment. It’s contextual, so it transforms into the tool you need depending on the content you’re pointing to, like buttons, app icons, and text. It’s perfect for tasks where you need an extra level of precision, like building a spreadsheet or editing text. You can also use intuitive trackpad gestures to quickly get around in iPadOS.Apple PencilJust for artists.And students.And everyone else.ProcreateCreateWhether you’re retouching a photo or illustrating a birthday card, the tilt and pressure sensitivity combined with the low latency of Apple Pencil enable all forms of artistic expression.2And it charges while magnetically attached to your iPad Pro, so it’s always ready when inspiration strikes.Adobe FrescoAdobe FrescoTake notesiPad is perfect for taking notes and organizing your thoughts. Sketch ideas in the Notes app as naturally as you do on paper, then catalog them, share them, or add them to a presentation. You can even search your handwritten notes. The App Store is also full of great apps that let you organize, annotate, and take your notes to the next level.Learn more about Apple PencilMark upMarking things up with Apple Pencil is a great way to get stuff done. Take a screenshot, then mark it up. Scan a document, then sign it right on your iPad. You can also easily mark up and send a PDF and even draw directly in apps like Keynote.PortabilityGoes where no laptop would dare.Thin, light, and durableiPad Pro is incredibly capable while still being easy to carry with you everywhere — slip it into a backpack or rest it on a tray table. And it has up to 10 hours of battery life to keep you going all day.3ConnectivityiPad Pro is the ultimate mobile workstation. You can print, project, and send files wirelessly. The USB‑C port lets you connect all types of accessories, like a camera, external drive, or display. Wi‑Fi and LTE are faster than ever, so you can stay connected everywhere.4And when it’s time to stream your favorite show or listen to your party playlist, iPad Pro has an amazing four speaker audio system built right in.Use AR to see the new iPad.Open this page using Safari on your iPhone or iPad.View in ARView in ARPrivacyLike every Apple product, iPad was designed with your privacy and security in mind. It’s not always easy. But that’s the kind of innovation we believe in.Learn more about our approach to privacyAccessibilityTechnology is most powerful when everyone can use it. That’s why iPad comes with accessibility features that support vision, hearing, mobility, and cognitive needs.Discover all accessibility featuresAccessories that let you make iPad your own.Explore keyboards, cases, covers, Apple Pencil, AirPods, and more.Shop iPad AccessoriesTrade in your current iPad and get credit toward a new one.With Apple Trade In, just give us your eligible iPad and get credit for a new one. It’s good for you and the planet.**Find your trade-in valueFind the right iPad for you.Compare iPad modelsiPad ProThe ultimate iPad experience.BuyLearn moreNewiPad AirPowerful. Colorful. Wonderful.BuyLearn moreNewiPadDelightfully capable. Surprisingly affordable.BuyLearn moreiPad miniSmall in size. Big on capability.BuyLearn moreApple FooterFast, free,no‑contact deliveryAnd free returns. See checkout for delivery dates.Learn moreGet 3% Daily Cash back with Apple CardAnd pay over time, interest-free when you choose Apple Card Monthly Installments.†Learn moreGet help buyingHave a question? Call a Specialist or chat online.Call 1-800-MY-APPLE.Contact usPersonalize itEngrave your iPad with your name or a personal note — free. Only at Apple.Learn more*Education pricing is available to current and newly accepted college students and their parents, as well as faculty, staff, and homeschool teachers of all grade levels. For more information, visitapple.com/us-hed/shop.**Trade‑in values may vary based on the condition and model of your iPad trade‑in. Must be at least 18. Offer may not be available in all stores and not all devices are eligible for credit. Apple reserves the right to refuse or limit the quantity of any device for any reason. Value of your current device may be applied toward purchase of a new Apple device. Additional terms atapple.com/trade-in.The iPad Pro display has rounded corners that follow a beautiful curved design, and these corners are within a standard rectangle. When measured as a standard rectangular shape, the screen is 12.9 inches or 11 inches diagonally (actual viewable area is less).Magic Keyboard and Apple Pencil sold separately.Battery life varies by use and configuration. Seeapple.com/batteriesfor more information.Data plan required. Gigabit‑class LTE, LTE Advanced, and LTE are available in select markets and through select carriers. Speeds are based on theoretical throughput and vary based on site conditions and carrier. For details on LTE support, contact your carrier and seeapple.com/ipad/LTE.Some features may not be available for all countries or areas.View complete list.Apps are available on the App Store. Title availability is subject to change.App features shown are for illustrative purposes only and may not currently be available for each app. Check with the app developer for feature availability.Apple Arcade requires a subscription.†Apple Card Monthly Installments is available for certain Apple products and is subject to credit approval and credit limit. Seehttps://support.apple.com/kb/HT211204for more information about eligible products. iPhone activation required on iPhone purchases made at an Apple Store with one of these national carriers: AT&T, Sprint, Verizon, or T‑Mobile. Variable APRs for Apple Card other than Apple Card Monthly Installments range from 10.99% to 21.99% based on creditworthiness. Rates as of April 1, 2020. Taxes and shipping are not included in Apple Card Monthly Installments and are subject to your standard purchase APR. See theApple Card Customer Agreementfor more information.To access and use all the features of Apple Card, you must add Apple Card to Wallet on an iPhone or iPad with iOS or iPadOS 13.2 or later. Update to the latest version of iOS or iPadOS by going to Settings > General > Software Update. Tap Download and Install.Available for qualifying applicants in the United States.Apple Card is issued by Goldman Sachs Bank USA, Salt Lake City Branch.AppleiPadiPad ProShop and LearnOpen MenuClose MenuMaciPadiPhoneWatchTVMusicAirPodsHomePodiPod touchAccessoriesGift CardsServicesOpen MenuClose MenuApple MusicApple TV+Apple Fitness+Apple News+Apple ArcadeiCloudApple OneApple CardApple BooksApp StoreAccountOpen MenuClose MenuManage Your Apple IDApple Store AccountiCloud.comApple StoreOpen MenuClose MenuFind a StoreShop OnlineGenius BarToday at AppleApple CampApple Store AppRefurbished and ClearanceFinancingApple Trade InOrder StatusShopping HelpFor BusinessOpen MenuClose MenuApple and BusinessShop for BusinessFor EducationOpen MenuClose MenuApple and EducationShop for K-12Shop for CollegeFor HealthcareOpen MenuClose MenuApple in HealthcareHealth on Apple WatchHealth Records on iPhoneFor GovernmentOpen MenuClose MenuShop for GovernmentShop for Veterans and MilitaryApple ValuesOpen MenuClose MenuAccessibilityEducationEnvironmentInclusion and DiversityPrivacyRacial Equity and JusticeSupplier ResponsibilityAbout AppleOpen MenuClose MenuNewsroomApple LeadershipJob OpportunitiesInvestorsEventsContact AppleMore ways to shop:Find an Apple Storeorother retailernear you.Or call 1-800-MY-APPLE.United StatesCopyright ©\n",
      "\t\t\t\t\n",
      "\t\t\t\t2021\n",
      "\t\t\t\t Apple Inc. All rights reserved.Privacy PolicyTerms of UseSales and RefundsLegalSite Map{\n",
      "\t\t\"@context\": \"http://schema.org\",\n",
      "\t\t\"@id\": \"https://www.apple.com/#organization\",\n",
      "\t\t\"@type\": \"Organization\",\n",
      "\t\t\"name\": \"Apple\",\n",
      "\t\t\"url\": \"https://www.apple.com/\",\n",
      "\t\t\"logo\": \"https://www.apple.com/ac/structured-data/images/knowledge_graph_logo.png?202012231408\",\n",
      "\t\t\"subOrganization\": {\n",
      "\t\t\t\"@type\": \"Organization\",\n",
      "\t\t\t\"name\": \"Apple Support\",\n",
      "\t\t\t\"url\": \"https://support.apple.com\",\n",
      "\t    \"@id\": \"https://support.apple.com/#organization\"\n",
      "\t\t},\n",
      "\t\t\"contactPoint\": [\n",
      "\t\t\t{\n",
      "\t\t\t\t\"@type\": \"ContactPoint\",\n",
      "\t\t\t\t\"telephone\": \"+1-800-692-7753\",\n",
      "\t\t\t\t\"contactType\": \"sales\",\n",
      "\t\t\t\t\"areaServed\": \"US\"\n",
      "\t\t\t},\n",
      "\t\t\t{\n",
      "\t\t\t\t\"@type\": \"ContactPoint\",\n",
      "\t\t\t\t\"telephone\": \"+1-800-275-2273\",\n",
      "\t\t\t\t\"contactType\": \"technical support\",\n",
      "\t\t\t\t\"areaServed\": \"US\",\n",
      "\t\t\t\t\"availableLanguage\": [\"EN\", \"ES\"]\n",
      "\t\t\t},\n",
      "\t\t\t{\n",
      "\t\t\t\t\"@type\": \"ContactPoint\",\n",
      "\t\t\t\t\"telephone\": \"+1-800-275-2273\",\n",
      "\t\t\t\t\"contactType\": \"customer support\",\n",
      "\t\t\t\t\"areaServed\": \"US\",\n",
      "\t\t\t\t\"availableLanguage\": [\"EN\", \"ES\"]\n",
      "\t\t\t}\n",
      "\t\t],\n",
      "\t\t\"sameAs\": [\n",
      "\t\t\t\"http://www.wikidata.org/entity/Q312\",\n",
      "\t\t\t\"https://www.youtube.com/user/Apple\",\n",
      "\t\t\t\"https://www.linkedin.com/company/apple\",\n",
      "\t\t\t\"https://www.facebook.com/Apple\",\n",
      "\t\t\t\"https://www.twitter.com/Apple\"\n",
      "\t\t]\n",
      "\t}{\n",
      "\t\t\t\"@context\": \"http://schema.org\",\n",
      "\t\t\t\"@type\": \"Product\",\n",
      "\t\t\t\"@id\": \"https://www.apple.com/ipad-pro/#product\",\n",
      "\t\t\t\"manufacturer\": {\n",
      "\t\t\t\t\"@id\": \"https://www.apple.com/#organization\"\n",
      "\t\t\t},\n",
      "\t\t\t\"brand\": {\n",
      "\t\t\t\t\"@id\": \"https://www.apple.com/ipad/#brand\"\n",
      "\t\t\t},\n",
      "\t\t\t\"name\": \"iPad Pro\",\n",
      "\t\t\t\"description\": \"iPad Pro features a Liquid Retina display, A12Z Bionic chip, pro cameras, new LiDAR Scanner, and support for Apple Pencil and the new Magic Keyboard.\",\n",
      "\t\t\t\"url\": \"https://www.apple.com/ipad-pro/\",\n",
      "\t\t\t\"mainEntityOfPage\": \"https://www.apple.com/ipad-pro/\",\n",
      "\t\t\t\"image\": \"https://www.apple.com/v/ipad-pro/ac/images/meta/ipad-pro_overview__fjqg278w75m6_og.png\",\n",
      "\t\t\t\"potentialAction\": {\n",
      "\t\t\t\t\"@type\": \"BuyAction\",\n",
      "\t\t\t\t\"seller\": {\n",
      "\t\t\t\t\t\"@id\": \"https://www.apple.com/#organization\"\n",
      "\t\t\t\t},\n",
      "\t\t\t\t\"url\": [\"https://www.apple.com/us/shop/goto/ipad_pro/select\"]\n",
      "\t\t\t}\n",
      "\t\t}\n"
     ]
    }
   ],
   "source": [
    "# Remove all html5 elements using BeautifulSoup\n",
    "from bs4 import BeautifulSoup\n",
    "soup = BeautifulSoup(html, 'html5lib')\n",
    "text = soup.get_text(strip=True)\n",
    "# print(text)"
   ]
  },
  {
   "cell_type": "code",
   "execution_count": null,
   "metadata": {},
   "outputs": [],
   "source": []
  }
 ],
 "metadata": {
  "kernelspec": {
   "display_name": "Python 3",
   "language": "python",
   "name": "python3"
  },
  "language_info": {
   "codemirror_mode": {
    "name": "ipython",
    "version": 3
   },
   "file_extension": ".py",
   "mimetype": "text/x-python",
   "name": "python",
   "nbconvert_exporter": "python",
   "pygments_lexer": "ipython3",
   "version": "3.7.6"
  }
 },
 "nbformat": 4,
 "nbformat_minor": 4
}
