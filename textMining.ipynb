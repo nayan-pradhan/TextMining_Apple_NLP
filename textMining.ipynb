{
 "cells": [
  {
   "cell_type": "code",
   "execution_count": 68,
   "metadata": {},
   "outputs": [],
   "source": [
    "import urllib.request # for reading from website\n",
    "from bs4 import BeautifulSoup # for removing html5 elements\n",
    "from nltk.tokenize import word_tokenize # for tokenizing\n",
    "import spacy # spacy\n",
    "from collections import Counter"
   ]
  },
  {
   "cell_type": "code",
   "execution_count": 59,
   "metadata": {},
   "outputs": [],
   "source": [
    "# read from apple website\n",
    "response = urllib.request.urlopen(\"https://www.apple.com/ipad-pro/\")\n",
    "html = response.read()\n",
    "# print(html)"
   ]
  },
  {
   "cell_type": "code",
   "execution_count": 60,
   "metadata": {},
   "outputs": [],
   "source": [
    "# Remove all html5 elements using BeautifulSoup\n",
    "soup = BeautifulSoup(html, 'html5lib')\n",
    "text = soup.get_text(strip=True)\n",
    "# print(text)"
   ]
  },
  {
   "cell_type": "code",
   "execution_count": 61,
   "metadata": {},
   "outputs": [],
   "source": [
    "# spacy \n",
    "sp = spacy.load('en_core_web_sm')\n",
    "\n",
    "# generating stop_words\n",
    "all_stopwords = sp.Defaults.stop_words\n",
    "\n",
    "# adding some common expected words in the website like Apple, iPad, etc\n",
    "all_stopwords |= {\"ipad\", \"pro\", \"11\", \"12.9\", \"-\", \"apple\", }"
   ]
  },
  {
   "cell_type": "code",
   "execution_count": 62,
   "metadata": {},
   "outputs": [],
   "source": [
    "# creating tokens\n",
    "tokens = word_tokenize(text)\n",
    "\n",
    "# converting all tokens to lower case\n",
    "tokens = [token.lower() for token in tokens]"
   ]
  },
  {
   "cell_type": "code",
   "execution_count": 63,
   "metadata": {},
   "outputs": [],
   "source": [
    "# Remove stop words like \"a\", \"at\", \"the\", etc\n",
    "tokens_without_sw = [w for w in tokens if not w in all_stopwords]\n",
    "# print(tokens_without_sw)"
   ]
  },
  {
   "cell_type": "code",
   "execution_count": 71,
   "metadata": {},
   "outputs": [],
   "source": [
    "# Frequency distribution of Tokens\n",
    "freq = Counter(tokens_without_sw)\n",
    "# print frequency\n",
    "# for key, val in freq.items():\n",
    "#     print(str(key)+\":\"+str(val))\n",
    "    "
   ]
  },
  {
   "cell_type": "code",
   "execution_count": null,
   "metadata": {},
   "outputs": [],
   "source": []
  }
 ],
 "metadata": {
  "kernelspec": {
   "display_name": "Python 3",
   "language": "python",
   "name": "python3"
  },
  "language_info": {
   "codemirror_mode": {
    "name": "ipython",
    "version": 3
   },
   "file_extension": ".py",
   "mimetype": "text/x-python",
   "name": "python",
   "nbconvert_exporter": "python",
   "pygments_lexer": "ipython3",
   "version": "3.7.6"
  }
 },
 "nbformat": 4,
 "nbformat_minor": 4
}
